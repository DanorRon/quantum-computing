{
 "cells": [
  {
   "cell_type": "code",
   "execution_count": 1,
   "id": "3cbc7beb",
   "metadata": {
    "_cell_guid": "b1076dfc-b9ad-4769-8c92-a6c4dae69d19",
    "_uuid": "8f2839f25d086af736a60e9eeb907d3b93b6e0e5",
    "execution": {
     "iopub.execute_input": "2022-03-12T15:04:29.416688Z",
     "iopub.status.busy": "2022-03-12T15:04:29.416029Z",
     "iopub.status.idle": "2022-03-12T15:04:52.983022Z",
     "shell.execute_reply": "2022-03-12T15:04:52.982201Z"
    },
    "papermill": {
     "duration": 23.585388,
     "end_time": "2022-03-12T15:04:52.983220",
     "exception": false,
     "start_time": "2022-03-12T15:04:29.397832",
     "status": "completed"
    },
    "tags": []
   },
   "outputs": [
    {
     "name": "stdout",
     "output_type": "stream",
     "text": [
      "Collecting qiskit\r\n",
      "  Downloading qiskit-0.34.2.tar.gz (13 kB)\r\n",
      "  Preparing metadata (setup.py) ... \u001b[?25l-\b \bdone\r\n",
      "\u001b[?25hCollecting qiskit-terra==0.19.2\r\n",
      "  Downloading qiskit_terra-0.19.2-cp37-cp37m-manylinux_2_12_x86_64.manylinux2010_x86_64.whl (6.5 MB)\r\n",
      "     |████████████████████████████████| 6.5 MB 4.2 MB/s            \r\n",
      "\u001b[?25hCollecting qiskit-aer==0.10.3\r\n",
      "  Downloading qiskit_aer-0.10.3-cp37-cp37m-manylinux_2_12_x86_64.manylinux2010_x86_64.whl (18.0 MB)\r\n",
      "     |████████████████████████████████| 18.0 MB 39.0 MB/s            \r\n",
      "\u001b[?25hCollecting qiskit-ibmq-provider==0.18.3\r\n",
      "  Downloading qiskit_ibmq_provider-0.18.3-py3-none-any.whl (238 kB)\r\n",
      "     |████████████████████████████████| 238 kB 40.1 MB/s            \r\n",
      "\u001b[?25hCollecting qiskit-ignis==0.7.0\r\n",
      "  Downloading qiskit_ignis-0.7.0-py3-none-any.whl (200 kB)\r\n",
      "     |████████████████████████████████| 200 kB 46.4 MB/s            \r\n",
      "\u001b[?25hRequirement already satisfied: scipy>=1.0 in /opt/conda/lib/python3.7/site-packages (from qiskit-aer==0.10.3->qiskit) (1.7.3)\r\n",
      "Requirement already satisfied: numpy>=1.16.3 in /opt/conda/lib/python3.7/site-packages (from qiskit-aer==0.10.3->qiskit) (1.20.3)\r\n",
      "Requirement already satisfied: urllib3>=1.21.1 in /opt/conda/lib/python3.7/site-packages (from qiskit-ibmq-provider==0.18.3->qiskit) (1.26.7)\r\n",
      "Requirement already satisfied: websocket-client>=1.0.1 in /opt/conda/lib/python3.7/site-packages (from qiskit-ibmq-provider==0.18.3->qiskit) (1.2.3)\r\n",
      "Collecting requests-ntlm>=1.1.0\r\n",
      "  Downloading requests_ntlm-1.1.0-py2.py3-none-any.whl (5.7 kB)\r\n",
      "Requirement already satisfied: python-dateutil>=2.8.0 in /opt/conda/lib/python3.7/site-packages (from qiskit-ibmq-provider==0.18.3->qiskit) (2.8.2)\r\n",
      "Requirement already satisfied: requests>=2.19 in /opt/conda/lib/python3.7/site-packages (from qiskit-ibmq-provider==0.18.3->qiskit) (2.26.0)\r\n",
      "Requirement already satisfied: setuptools>=40.1.0 in /opt/conda/lib/python3.7/site-packages (from qiskit-ignis==0.7.0->qiskit) (59.5.0)\r\n",
      "Collecting retworkx>=0.8.0\r\n",
      "  Downloading retworkx-0.11.0-cp37-cp37m-manylinux_2_5_x86_64.manylinux1_x86_64.manylinux_2_12_x86_64.manylinux2010_x86_64.whl (1.6 MB)\r\n",
      "     |████████████████████████████████| 1.6 MB 41.1 MB/s            \r\n",
      "\u001b[?25hRequirement already satisfied: sympy>=1.3 in /opt/conda/lib/python3.7/site-packages (from qiskit-terra==0.19.2->qiskit) (1.9)\r\n",
      "Requirement already satisfied: dill>=0.3 in /opt/conda/lib/python3.7/site-packages (from qiskit-terra==0.19.2->qiskit) (0.3.4)\r\n",
      "Collecting symengine>=0.8\r\n",
      "  Downloading symengine-0.9.2-cp37-cp37m-manylinux2010_x86_64.whl (37.5 MB)\r\n",
      "     |████████████████████████████████| 37.5 MB 42.0 MB/s            \r\n",
      "\u001b[?25hRequirement already satisfied: stevedore>=3.0.0 in /opt/conda/lib/python3.7/site-packages (from qiskit-terra==0.19.2->qiskit) (3.5.0)\r\n",
      "Collecting python-constraint>=1.4\r\n",
      "  Downloading python-constraint-1.4.0.tar.bz2 (18 kB)\r\n",
      "  Preparing metadata (setup.py) ... \u001b[?25l-\b \bdone\r\n",
      "\u001b[?25hCollecting ply>=3.10\r\n",
      "  Downloading ply-3.11-py2.py3-none-any.whl (49 kB)\r\n",
      "     |████████████████████████████████| 49 kB 3.6 MB/s             \r\n",
      "\u001b[?25hCollecting tweedledum<2.0,>=1.1\r\n",
      "  Downloading tweedledum-1.1.1-cp37-cp37m-manylinux_2_12_x86_64.manylinux2010_x86_64.whl (943 kB)\r\n",
      "     |████████████████████████████████| 943 kB 51.8 MB/s            \r\n",
      "\u001b[?25hRequirement already satisfied: psutil>=5 in /opt/conda/lib/python3.7/site-packages (from qiskit-terra==0.19.2->qiskit) (5.8.0)\r\n",
      "Requirement already satisfied: six>=1.5 in /opt/conda/lib/python3.7/site-packages (from python-dateutil>=2.8.0->qiskit-ibmq-provider==0.18.3->qiskit) (1.16.0)\r\n",
      "Requirement already satisfied: certifi>=2017.4.17 in /opt/conda/lib/python3.7/site-packages (from requests>=2.19->qiskit-ibmq-provider==0.18.3->qiskit) (2021.10.8)\r\n",
      "Requirement already satisfied: idna<4,>=2.5 in /opt/conda/lib/python3.7/site-packages (from requests>=2.19->qiskit-ibmq-provider==0.18.3->qiskit) (3.1)\r\n",
      "Requirement already satisfied: charset-normalizer~=2.0.0 in /opt/conda/lib/python3.7/site-packages (from requests>=2.19->qiskit-ibmq-provider==0.18.3->qiskit) (2.0.9)\r\n",
      "Requirement already satisfied: cryptography>=1.3 in /opt/conda/lib/python3.7/site-packages (from requests-ntlm>=1.1.0->qiskit-ibmq-provider==0.18.3->qiskit) (36.0.1)\r\n",
      "Collecting ntlm-auth>=1.0.2\r\n",
      "  Downloading ntlm_auth-1.5.0-py2.py3-none-any.whl (29 kB)\r\n",
      "Requirement already satisfied: importlib-metadata>=1.7.0 in /opt/conda/lib/python3.7/site-packages (from stevedore>=3.0.0->qiskit-terra==0.19.2->qiskit) (4.11.2)\r\n",
      "Requirement already satisfied: pbr!=2.1.0,>=2.0.0 in /opt/conda/lib/python3.7/site-packages (from stevedore>=3.0.0->qiskit-terra==0.19.2->qiskit) (5.8.1)\r\n",
      "Requirement already satisfied: mpmath>=0.19 in /opt/conda/lib/python3.7/site-packages (from sympy>=1.3->qiskit-terra==0.19.2->qiskit) (1.2.1)\r\n",
      "Requirement already satisfied: cffi>=1.12 in /opt/conda/lib/python3.7/site-packages (from cryptography>=1.3->requests-ntlm>=1.1.0->qiskit-ibmq-provider==0.18.3->qiskit) (1.15.0)\r\n",
      "Requirement already satisfied: zipp>=0.5 in /opt/conda/lib/python3.7/site-packages (from importlib-metadata>=1.7.0->stevedore>=3.0.0->qiskit-terra==0.19.2->qiskit) (3.6.0)\r\n",
      "Requirement already satisfied: typing-extensions>=3.6.4 in /opt/conda/lib/python3.7/site-packages (from importlib-metadata>=1.7.0->stevedore>=3.0.0->qiskit-terra==0.19.2->qiskit) (4.1.1)\r\n",
      "Requirement already satisfied: pycparser in /opt/conda/lib/python3.7/site-packages (from cffi>=1.12->cryptography>=1.3->requests-ntlm>=1.1.0->qiskit-ibmq-provider==0.18.3->qiskit) (2.21)\r\n",
      "Building wheels for collected packages: qiskit, python-constraint\r\n",
      "  Building wheel for qiskit (setup.py) ... \u001b[?25l-\b \b\\\b \bdone\r\n",
      "\u001b[?25h  Created wheel for qiskit: filename=qiskit-0.34.2-py3-none-any.whl size=11805 sha256=a3cb037d519921aef1e87749aa99725340ff624dc9b4cab929edff09adc98c8e\r\n",
      "  Stored in directory: /root/.cache/pip/wheels/62/77/65/cda6eedfdd2a525bd3f479a4386930ae3088a1eb01f8c944ed\r\n",
      "  Building wheel for python-constraint (setup.py) ... \u001b[?25l-\b \b\\\b \bdone\r\n",
      "\u001b[?25h  Created wheel for python-constraint: filename=python_constraint-1.4.0-py2.py3-none-any.whl size=24081 sha256=8d1c1e8a5b08a037f3e4039e3b45b43a362dc1ada4a9096f1ca0c8da9f4ce991\r\n",
      "  Stored in directory: /root/.cache/pip/wheels/07/27/db/1222c80eb1e431f3d2199c12569cb1cac60f562a451fe30479\r\n",
      "Successfully built qiskit python-constraint\r\n",
      "Installing collected packages: tweedledum, symengine, retworkx, python-constraint, ply, ntlm-auth, requests-ntlm, qiskit-terra, qiskit-ignis, qiskit-ibmq-provider, qiskit-aer, qiskit\r\n",
      "Successfully installed ntlm-auth-1.5.0 ply-3.11 python-constraint-1.4.0 qiskit-0.34.2 qiskit-aer-0.10.3 qiskit-ibmq-provider-0.18.3 qiskit-ignis-0.7.0 qiskit-terra-0.19.2 requests-ntlm-1.1.0 retworkx-0.11.0 symengine-0.9.2 tweedledum-1.1.1\r\n",
      "\u001b[33mWARNING: Running pip as the 'root' user can result in broken permissions and conflicting behaviour with the system package manager. It is recommended to use a virtual environment instead: https://pip.pypa.io/warnings/venv\u001b[0m\r\n"
     ]
    }
   ],
   "source": [
    "!pip install qiskit;"
   ]
  },
  {
   "cell_type": "code",
   "execution_count": 2,
   "id": "cfa145e4",
   "metadata": {
    "execution": {
     "iopub.execute_input": "2022-03-12T15:04:53.088870Z",
     "iopub.status.busy": "2022-03-12T15:04:53.088114Z",
     "iopub.status.idle": "2022-03-12T15:04:54.421424Z",
     "shell.execute_reply": "2022-03-12T15:04:54.422040Z",
     "shell.execute_reply.started": "2022-03-12T14:58:14.452479Z"
    },
    "papermill": {
     "duration": 1.388757,
     "end_time": "2022-03-12T15:04:54.422261",
     "exception": false,
     "start_time": "2022-03-12T15:04:53.033504",
     "status": "completed"
    },
    "tags": []
   },
   "outputs": [],
   "source": [
    "import numpy as np\n",
    "from qiskit import QuantumCircuit, transpile\n",
    "from qiskit.providers.aer import QasmSimulator\n",
    "from qiskit.visualization import plot_histogram"
   ]
  },
  {
   "cell_type": "code",
   "execution_count": 3,
   "id": "c9ba5fe9",
   "metadata": {
    "execution": {
     "iopub.execute_input": "2022-03-12T15:04:54.521643Z",
     "iopub.status.busy": "2022-03-12T15:04:54.520523Z",
     "iopub.status.idle": "2022-03-12T15:04:54.525315Z",
     "shell.execute_reply": "2022-03-12T15:04:54.524733Z",
     "shell.execute_reply.started": "2022-03-12T14:57:44.385951Z"
    },
    "papermill": {
     "duration": 0.055927,
     "end_time": "2022-03-12T15:04:54.525469",
     "exception": false,
     "start_time": "2022-03-12T15:04:54.469542",
     "status": "completed"
    },
    "tags": []
   },
   "outputs": [],
   "source": [
    "circuit = QuantumCircuit(2, 2)"
   ]
  },
  {
   "cell_type": "code",
   "execution_count": 4,
   "id": "38cdeb6c",
   "metadata": {
    "execution": {
     "iopub.execute_input": "2022-03-12T15:04:54.625328Z",
     "iopub.status.busy": "2022-03-12T15:04:54.624283Z",
     "iopub.status.idle": "2022-03-12T15:04:54.633876Z",
     "shell.execute_reply": "2022-03-12T15:04:54.634418Z",
     "shell.execute_reply.started": "2022-03-12T14:57:45.625369Z"
    },
    "papermill": {
     "duration": 0.061547,
     "end_time": "2022-03-12T15:04:54.634621",
     "exception": false,
     "start_time": "2022-03-12T15:04:54.573074",
     "status": "completed"
    },
    "tags": []
   },
   "outputs": [
    {
     "data": {
      "text/plain": [
       "<qiskit.circuit.instructionset.InstructionSet at 0x7f281353f0f0>"
      ]
     },
     "execution_count": 4,
     "metadata": {},
     "output_type": "execute_result"
    }
   ],
   "source": [
    "circuit.h(0)\n",
    "circuit.cx(0, 1)\n",
    "circuit.measure([0,1], [0,1])"
   ]
  },
  {
   "cell_type": "code",
   "execution_count": 5,
   "id": "59402cc5",
   "metadata": {
    "execution": {
     "iopub.execute_input": "2022-03-12T15:04:54.733945Z",
     "iopub.status.busy": "2022-03-12T15:04:54.732904Z",
     "iopub.status.idle": "2022-03-12T15:04:54.741537Z",
     "shell.execute_reply": "2022-03-12T15:04:54.742174Z",
     "shell.execute_reply.started": "2022-03-12T14:57:50.338926Z"
    },
    "papermill": {
     "duration": 0.060244,
     "end_time": "2022-03-12T15:04:54.742371",
     "exception": false,
     "start_time": "2022-03-12T15:04:54.682127",
     "status": "completed"
    },
    "tags": []
   },
   "outputs": [
    {
     "data": {
      "text/html": [
       "<pre style=\"word-wrap: normal;white-space: pre;background: #fff0;line-height: 1.1;font-family: &quot;Courier New&quot;,Courier,monospace\">     ┌───┐     ┌─┐   \n",
       "q_0: ┤ H ├──■──┤M├───\n",
       "     └───┘┌─┴─┐└╥┘┌─┐\n",
       "q_1: ─────┤ X ├─╫─┤M├\n",
       "          └───┘ ║ └╥┘\n",
       "c: 2/═══════════╩══╩═\n",
       "                0  1 </pre>"
      ],
      "text/plain": [
       "     ┌───┐     ┌─┐   \n",
       "q_0: ┤ H ├──■──┤M├───\n",
       "     └───┘┌─┴─┐└╥┘┌─┐\n",
       "q_1: ─────┤ X ├─╫─┤M├\n",
       "          └───┘ ║ └╥┘\n",
       "c: 2/═══════════╩══╩═\n",
       "                0  1 "
      ]
     },
     "execution_count": 5,
     "metadata": {},
     "output_type": "execute_result"
    }
   ],
   "source": [
    "circuit.draw()"
   ]
  },
  {
   "cell_type": "code",
   "execution_count": 6,
   "id": "26370b08",
   "metadata": {
    "execution": {
     "iopub.execute_input": "2022-03-12T15:04:54.842651Z",
     "iopub.status.busy": "2022-03-12T15:04:54.841597Z",
     "iopub.status.idle": "2022-03-12T15:04:56.572021Z",
     "shell.execute_reply": "2022-03-12T15:04:56.572898Z",
     "shell.execute_reply.started": "2022-03-12T15:01:15.762759Z"
    },
    "papermill": {
     "duration": 1.783341,
     "end_time": "2022-03-12T15:04:56.573186",
     "exception": false,
     "start_time": "2022-03-12T15:04:54.789845",
     "status": "completed"
    },
    "tags": []
   },
   "outputs": [
    {
     "name": "stdout",
     "output_type": "stream",
     "text": [
      "{'00': 502, '11': 498}\n"
     ]
    }
   ],
   "source": [
    "simulator = QasmSimulator()\n",
    "compiled_circuit = transpile(circuit, simulator)\n",
    "job = simulator.run(compiled_circuit, shots=1000)\n",
    "result = job.result()\n",
    "counts = result.get_counts()\n",
    "print(counts)"
   ]
  },
  {
   "cell_type": "code",
   "execution_count": 7,
   "id": "3851b6d7",
   "metadata": {
    "execution": {
     "iopub.execute_input": "2022-03-12T15:04:56.674106Z",
     "iopub.status.busy": "2022-03-12T15:04:56.672848Z",
     "iopub.status.idle": "2022-03-12T15:04:56.836491Z",
     "shell.execute_reply": "2022-03-12T15:04:56.837079Z",
     "shell.execute_reply.started": "2022-03-12T15:01:31.916131Z"
    },
    "papermill": {
     "duration": 0.215446,
     "end_time": "2022-03-12T15:04:56.837308",
     "exception": false,
     "start_time": "2022-03-12T15:04:56.621862",
     "status": "completed"
    },
    "tags": []
   },
   "outputs": [
    {
     "data": {
      "image/png": "[encoded data removed]",
      "text/plain": [
       "<Figure size 504x360 with 1 Axes>"
      ]
     },
     "execution_count": 7,
     "metadata": {},
     "output_type": "execute_result"
    }
   ],
   "source": [
    "plot_histogram(counts)"
   ]
  }
 ],
 "metadata": {
  "kernelspec": {
   "display_name": "Python 3",
   "language": "python",
   "name": "python3"
  },
  "language_info": {
   "codemirror_mode": {
    "name": "ipython",
    "version": 3
   },
   "file_extension": ".py",
   "mimetype": "text/x-python",
   "name": "python",
   "nbconvert_exporter": "python",
   "pygments_lexer": "ipython3",
   "version": "3.7.12"
  },
  "papermill": {
   "default_parameters": {},
   "duration": 40.743308,
   "end_time": "2022-03-12T15:04:59.888136",
   "environment_variables": {},
   "exception": null,
   "input_path": "__notebook__.ipynb",
   "output_path": "__notebook__.ipynb",
   "parameters": {},
   "start_time": "2022-03-12T15:04:19.144828",
   "version": "2.3.3"
  }
 },
 "nbformat": 4,
 "nbformat_minor": 5
}
